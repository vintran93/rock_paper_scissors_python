{
 "cells": [
  {
   "cell_type": "code",
   "execution_count": 1,
   "id": "b419ead0",
   "metadata": {},
   "outputs": [
    {
     "name": "stdout",
     "output_type": "stream",
     "text": [
      "************************************\n",
      "Rock, Paper, Scissors Account Set up\n",
      "************************************\n",
      "Choose a usernamevintran\n",
      "Choose a passwordhelloworld\n",
      "Please confirm your password.helloworld\n",
      "Account has been setup.\n"
     ]
    }
   ],
   "source": [
    "print(\"************************************\")\n",
    "print(\"Rock, Paper, Scissors Account Set up\")\n",
    "print(\"************************************\")\n",
    "while True:\n",
    "    username = input(\"Choose a username\")\n",
    "    password = input(\"Choose a password\")\n",
    "    password_confirm = input(\"Please confirm your password.\")\n",
    "    \n",
    "    if password != password_confirm:\n",
    "        print(\"Your passwords don't match. Please try again.\")\n",
    "    if password == password_confirm:\n",
    "        print(\"Account has been setup.\")\n",
    "        text_file = open(\"accounts.csv\",\"a\")\n",
    "        text_file.write(\",\") # comma separator, commas represent a new cell\n",
    "        text_file.write(username)\n",
    "        text_file.write(\",\")\n",
    "        text_file.write(password)\n",
    "        text_file.close() # excel document will crash if we do not do this\n",
    "        break"
   ]
  },
  {
   "cell_type": "code",
   "execution_count": 3,
   "id": "96846bad",
   "metadata": {},
   "outputs": [
    {
     "name": "stdout",
     "output_type": "stream",
     "text": [
      "*****Rock Paper Scissor Game****\n",
      "Enter 'r' for rock, 's' for scissor, 'p' for paper: p\n",
      "You Lose \n",
      "Computer enter s, You enter p\n",
      "Play again? (yes/no): yes\n",
      "*****Rock Paper Scissor Game****\n",
      "Enter 'r' for rock, 's' for scissor, 'p' for paper: s\n",
      "It is a tye! Try Again \n",
      "Computer enter s, You enter s\n",
      "Play again? (yes/no): y\n"
     ]
    }
   ],
   "source": [
    "while True:\n",
    "    print( \"*****Rock Paper Scissor Game****\")\n",
    "    import random\n",
    "    comp = random.randint(1,3)\n",
    "    if comp == 1:\n",
    "        computer = 'r'\n",
    "    elif comp == 2:\n",
    "        computer = 'p'\n",
    "    else:\n",
    "        computer = 's'\n",
    "    player = input(\"Enter 'r' for rock, 's' for scissor, 'p' for paper: \")\n",
    "    if player == 'r':\n",
    "        if computer == 's':\n",
    "            print(\"You win \")\n",
    "        elif computer == 'p': \n",
    "            print(\"You Lose \")\n",
    "        else:\n",
    "            print(\"It is a tye! Try again\")\n",
    "    elif player == 'p':\n",
    "        if computer == 'r':\n",
    "            print(\"You win \")\n",
    "        elif computer == 's': \n",
    "            print(\"You Lose \")\n",
    "        else:\n",
    "            print(\"It is a tye! Try again\")\n",
    "    elif player == 's':\n",
    "        if computer == 'p':\n",
    "            print(\"You win \")\n",
    "        elif computer == 'r': \n",
    "            print(\"You Lose \")\n",
    "        else:\n",
    "            print(\"It is a tye! Try Again \")\n",
    "    else:\n",
    "        print(\"It is tye! Try again \")\n",
    "    print(f\"Computer enter {computer}, You enter {player}\")\n",
    "    play_again = input(\"Play again? (yes/no): \")\n",
    "    if play_again.lower() != \"yes\":\n",
    "        break"
   ]
  },
  {
   "cell_type": "code",
   "execution_count": null,
   "id": "75df6617",
   "metadata": {},
   "outputs": [],
   "source": []
  }
 ],
 "metadata": {
  "kernelspec": {
   "display_name": "Python 3",
   "language": "python",
   "name": "python3"
  },
  "language_info": {
   "codemirror_mode": {
    "name": "ipython",
    "version": 3
   },
   "file_extension": ".py",
   "mimetype": "text/x-python",
   "name": "python",
   "nbconvert_exporter": "python",
   "pygments_lexer": "ipython3",
   "version": "3.8.8"
  }
 },
 "nbformat": 4,
 "nbformat_minor": 5
}
